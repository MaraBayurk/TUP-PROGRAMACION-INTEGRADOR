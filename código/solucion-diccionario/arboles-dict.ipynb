{
 "cells": [
  {
   "cell_type": "markdown",
   "id": "492a24d9",
   "metadata": {},
   "source": [
    "# Árbol de Decisiones en Python con Diccionarios\n",
    "\n",
    "Voy a mostrar cómo implementar un árbol de decisiones simple usando diccionarios en Python. El árbol permite determinar \"qué raza sos\" en un mundo de fantasía, haciendo preguntas al usuario y guiándolo a través de diferentes ramas según sus respuestas.\n",
    "## Estructura del árbol:\n",
    "- Raíz: pregunta inicial\n",
    "- Ramas: respuestas \"si\" y \"no\"\n",
    "- Hojas: resultados finales (raza del usuario)"
   ]
  },
  {
   "cell_type": "code",
   "execution_count": 16,
   "id": "e8a7f88e",
   "metadata": {},
   "outputs": [],
   "source": [
    "arbol = {\n",
    "    \"pregunta\": \"¿Sos alto?\",\n",
    "    \"si\": {\n",
    "        \"pregunta\": \"¿Te apasionan los fuegos artificiales?\",\n",
    "        \"si\": {\n",
    "            \"resultado\": \"Sos un Mago\"\n",
    "            },\n",
    "        \"no\": {\n",
    "            \"resultado\": \"Sos un Elfo\"\n",
    "            }\n",
    "    },\n",
    "    \"no\": {\n",
    "        \"pregunta\": \"¿Te gusta el oro?\",\n",
    "        \"si\": {\n",
    "            \"resultado\": \"Sos un Enano\"\n",
    "            },\n",
    "        \"no\": {\n",
    "            \"resultado\": \"Sos un Hobbit\"\n",
    "            }\n",
    "    }\n",
    "}"
   ]
  },
  {
   "cell_type": "markdown",
   "id": "3750ce53",
   "metadata": {},
   "source": [
    "## Función para jugar\n",
    "Esta función recorre el árbol según las respuestas del usuario. Si llega a un resultado, lo muestra. Si está en una pregunta, pregunta al usuario y sigue por la rama correspondiente."
   ]
  },
  {
   "cell_type": "code",
   "execution_count": 7,
   "id": "b7ec9269",
   "metadata": {},
   "outputs": [
    {
     "name": "stdout",
     "output_type": "stream",
     "text": [
      "Resultado: Sos un Mago\n"
     ]
    }
   ],
   "source": [
    "arbol = {\n",
    "    \"pregunta\": \"¿Sos alto?\",\n",
    "    \"si\": {\n",
    "        \"pregunta\": \"¿Te apasionan los fuegos artificiales?\",\n",
    "        \"si\": {\n",
    "            \"resultado\": \"Sos un Mago\"\n",
    "            },\n",
    "        \"no\": {\n",
    "            \"resultado\": \"Sos un Elfo\"\n",
    "            }\n",
    "    },\n",
    "    \"no\": {\n",
    "        \"pregunta\": \"¿Te gusta el oro?\",\n",
    "        \"si\": {\n",
    "            \"resultado\": \"Sos un Enano\"\n",
    "            },\n",
    "        \"no\": {\n",
    "            \"resultado\": \"Sos un Hobbit\"\n",
    "            }\n",
    "    }\n",
    "}\n",
    "\n",
    "def jugar(nodo):\n",
    "    if \"resultado\" in nodo:\n",
    "        print(f\"Resultado: {nodo['resultado']}\")\n",
    "        return\n",
    "    respuesta = input(nodo[\"pregunta\"] + \" (si/no): \").strip().lower()\n",
    "    if respuesta == \"si\":\n",
    "        jugar(nodo[\"si\"])\n",
    "    elif respuesta == \"no\":\n",
    "        jugar(nodo[\"no\"])\n",
    "    else:\n",
    "        print(\"Respuesta no válida. Por favor respondé 'si' o 'no'.\")\n",
    "        jugar(nodo)\n",
    "\n",
    "#Ejecutar codigo\n",
    "jugar(arbol)"
   ]
  },
  {
   "cell_type": "markdown",
   "id": "950d0e39",
   "metadata": {},
   "source": [
    "## Función para agregar una nueva pregunta\n",
    "Permite agregar una nueva pregunta en una hoja del árbol, reemplazando un resultado por una pregunta con dos posibles resultados.\n",
    "### Parametros:\n",
    "- camino: lista de pasos (\"si\"/\"no\") para llegar a la hoja\n",
    "- nueva_pregunta: texto de la nueva pregunta\n",
    "- resultado_si y resultado_no: resultado si la respuesta es \"si\" o \"no\""
   ]
  },
  {
   "cell_type": "code",
   "execution_count": 8,
   "id": "13a0a46d",
   "metadata": {},
   "outputs": [
    {
     "name": "stdout",
     "output_type": "stream",
     "text": [
      "Se agregó la pregunta \"¿Tenés barba?\" al árbol\n",
      "El nodo completo: {'pregunta': '¿Tenés barba?', 'si': {'resultado': 'Sos un Mago'}, 'no': {'resultado': 'Sos un Hombre'}}\n",
      "Árbol actualizado:\n",
      "{'pregunta': '¿Sos alto?', 'si': {'pregunta': '¿Te apasionan los fuegos artificiales?', 'si': {'pregunta': '¿Tenés barba?', 'si': {'resultado': 'Sos un Mago'}, 'no': {'resultado': 'Sos un Hombre'}}, 'no': {'resultado': 'Sos un Elfo'}}, 'no': {'pregunta': '¿Te gusta el oro?', 'si': {'resultado': 'Sos un Enano'}, 'no': {'resultado': 'Sos un Hobbit'}}}\n"
     ]
    }
   ],
   "source": [
    "arbol = {\n",
    "    \"pregunta\": \"¿Sos alto?\",\n",
    "    \"si\": {\n",
    "        \"pregunta\": \"¿Te apasionan los fuegos artificiales?\",\n",
    "        \"si\": {\n",
    "            \"resultado\": \"Sos un Mago\"\n",
    "            },\n",
    "        \"no\": {\n",
    "            \"resultado\": \"Sos un Elfo\"\n",
    "            }\n",
    "    },\n",
    "    \"no\": {\n",
    "        \"pregunta\": \"¿Te gusta el oro?\",\n",
    "        \"si\": {\n",
    "            \"resultado\": \"Sos un Enano\"\n",
    "            },\n",
    "        \"no\": {\n",
    "            \"resultado\": \"Sos un Hobbit\"\n",
    "            }\n",
    "    }\n",
    "}\n",
    "\n",
    "def agregarNodo(arbol, camino, nueva_pregunta, resultado_si, resultado_no):\n",
    "    nodo = arbol\n",
    "    for paso in camino:\n",
    "        if paso in nodo:\n",
    "            nodo = nodo[paso]\n",
    "        else:\n",
    "            print(f\"Camino inválido: {paso} no existe\")\n",
    "            return\n",
    "    if \"resultado\" not in nodo:\n",
    "        print(\"No se puede agregar aquí porque este nodo ya tiene una pregunta.\")\n",
    "        return\n",
    "    nodo.clear()\n",
    "    nodo[\"pregunta\"] = nueva_pregunta\n",
    "    nodo[\"si\"] = {\"resultado\": resultado_si}\n",
    "    nodo[\"no\"] = {\"resultado\": resultado_no}\n",
    "    print(f'Se agregó la pregunta \"{nueva_pregunta}\" al árbol')\n",
    "    print(f'El nodo completo: {nodo}')\n",
    "\n",
    "# Ejecutar codigo:\n",
    "agregarNodo(\n",
    "    arbol,\n",
    "    camino=[\"si\", \"si\"],\n",
    "    nueva_pregunta=\"¿Tenés barba?\",\n",
    "    resultado_si=\"Sos un Mago\",\n",
    "    resultado_no=\"Sos un Hombre\"\n",
    ")\n",
    "print(\"Árbol actualizado:\")\n",
    "print(arbol)"
   ]
  },
  {
   "cell_type": "markdown",
   "id": "82e96e21",
   "metadata": {},
   "source": [
    "## Calcular el peso y grado\n",
    "El peso es el número total de nodos que tiene el árbol.\n",
    "\n",
    "El grado es el número de hijos que tiene dicho nodo."
   ]
  },
  {
   "cell_type": "code",
   "execution_count": 12,
   "id": "889158c8",
   "metadata": {},
   "outputs": [
    {
     "name": "stdout",
     "output_type": "stream",
     "text": [
      "El peso del árbol es igual a 7.\n",
      "El grado del árbol es: 2\n"
     ]
    }
   ],
   "source": [
    "arbol = {\n",
    "    \"pregunta\": \"¿Sos alto?\",\n",
    "    \"si\": {\n",
    "        \"pregunta\": \"¿Te apasionan los fuegos artificiales?\",\n",
    "        \"si\": {\n",
    "            \"resultado\": \"Sos un Mago\"\n",
    "            },\n",
    "        \"no\": {\n",
    "            \"resultado\": \"Sos un Elfo\"\n",
    "            }\n",
    "    },\n",
    "    \"no\": {\n",
    "        \"pregunta\": \"¿Te gusta el oro?\",\n",
    "        \"si\": {\n",
    "            \"resultado\": \"Sos un Enano\"\n",
    "            },\n",
    "        \"no\": {\n",
    "            \"resultado\": \"Sos un Hobbit\"\n",
    "            }\n",
    "    }\n",
    "}\n",
    "\n",
    "def calcularPeso(nodo):\n",
    "    if isinstance(nodo, dict):\n",
    "        if \"resultado\" in nodo:\n",
    "            return 1\n",
    "        suma = 1\n",
    "        if \"si\" in nodo:\n",
    "            suma += calcularPeso(nodo[\"si\"])\n",
    "        if \"no\" in nodo:\n",
    "            suma += calcularPeso(nodo[\"no\"])\n",
    "        return suma\n",
    "    return 0\n",
    "\n",
    "def calcularGrado(nodo):\n",
    "    if type(nodo) is dict:\n",
    "        return len(nodo) - 1  # Restamos 1 porque no contamos la pregunta o resultado\n",
    "    return 0 # Si es una hoja, no tiene hijos\n",
    "\n",
    "# Ejecutar codigo\n",
    "peso = calcularPeso(arbol)\n",
    "print(f\"El peso del árbol es igual a {peso}.\")\n",
    "\n",
    "grado = calcularGrado(arbol)\n",
    "print(f'El grado del árbol es: {grado}')"
   ]
  }
 ],
 "metadata": {
  "kernelspec": {
   "display_name": "Python 3",
   "language": "python",
   "name": "python3"
  },
  "language_info": {
   "codemirror_mode": {
    "name": "ipython",
    "version": 3
   },
   "file_extension": ".py",
   "mimetype": "text/x-python",
   "name": "python",
   "nbconvert_exporter": "python",
   "pygments_lexer": "ipython3",
   "version": "3.13.2"
  }
 },
 "nbformat": 4,
 "nbformat_minor": 5
}
