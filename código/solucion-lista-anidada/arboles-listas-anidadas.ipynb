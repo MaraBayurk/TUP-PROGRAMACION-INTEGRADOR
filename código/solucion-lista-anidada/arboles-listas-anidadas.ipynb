{
 "cells": [
  {
   "cell_type": "markdown",
   "id": "9225f358",
   "metadata": {},
   "source": [
    "# Árbol de Decisiones\n",
    "En esta celda se define la estructura del árbol de decisiones para determinar la raza según las respuestas del usuario."
   ]
  },
  {
   "cell_type": "code",
   "execution_count": 13,
   "id": "eb2cef7e",
   "metadata": {},
   "outputs": [],
   "source": [
    "arbol_razas = [\n",
    "    \"¿Sos alto?\",\n",
    "    [\n",
    "        [\"Si\", [\n",
    "            \"¿Te apasionan los fuegos artificiales?\",\n",
    "            [\n",
    "                [\"Si\", \"Magos\"],\n",
    "                [\"No\", \"Elfos\"]\n",
    "            ]\n",
    "        ]],\n",
    "        [\"No\", [\n",
    "            \"¿Te gusta el oro?\",\n",
    "            [\n",
    "                [\"Si\", \"Enanos\"],\n",
    "                [\"No\", \"Hobbits\"]\n",
    "            ]\n",
    "        ]]\n",
    "    ]\n",
    "]"
   ]
  },
  {
   "cell_type": "markdown",
   "id": "be2bef9d",
   "metadata": {},
   "source": [
    "# Jugar con el Árbol de Razas\n",
    "Esta función recorre el árbol de decisiones haciendo preguntas al usuario hasta llegar a una raza."
   ]
  },
  {
   "cell_type": "code",
   "execution_count": 14,
   "id": "ad9c4ef1",
   "metadata": {},
   "outputs": [
    {
     "name": "stdout",
     "output_type": "stream",
     "text": [
      "\n",
      "🎉 Perteneces a la raza de los: Hobbits\n"
     ]
    }
   ],
   "source": [
    "def jugar_razas(nodo):\n",
    "    while True:\n",
    "        pregunta, opciones = nodo\n",
    "        respuesta = input(pregunta + \" Responde con si o con no: \").strip().capitalize()\n",
    "        for opcion, hoja in opciones:\n",
    "            if respuesta == opcion:\n",
    "                if type(hoja) == str:  # validación directa del tipo\n",
    "                    return hoja\n",
    "                else:\n",
    "                    nodo = hoja      # continuar recorriendo el árbol\n",
    "                    break\n",
    "        else:\n",
    "            print(\"Respuesta no válida. Usa 'Si' o 'No'.\")\n",
    "            \n",
    "# Iniciar el juego\n",
    "raza = jugar_razas(arbol_razas)\n",
    "print(f\"\\n🎉 Perteneces a la raza de los: {raza}\")"
   ]
  },
  {
   "cell_type": "markdown",
   "id": "d351f3c7",
   "metadata": {},
   "source": [
    "# Calcular la Longitud del Camino\n",
    "Esta función retorna la longitud del camino desde la raíz hasta una raza específica. "
   ]
  },
  {
   "cell_type": "code",
   "execution_count": 15,
   "id": "28211171",
   "metadata": {},
   "outputs": [
    {
     "name": "stdout",
     "output_type": "stream",
     "text": [
      "\n",
      "Longitud del camino hasta 'Hobbits': 2\n"
     ]
    }
   ],
   "source": [
    "def longitud_camino(nodo, destino, nivel=0):\n",
    "    if type(nodo) == str:\n",
    "        return nivel if nodo == destino else -1\n",
    "    pregunta, opciones = nodo\n",
    "    for opcion, hoja in opciones:\n",
    "        res = longitud_camino(hoja, destino, nivel + 1)\n",
    "        if res != -1:\n",
    "            return res\n",
    "    return -1\n",
    "\n",
    "camino = longitud_camino(arbol_razas, raza)\n",
    "print(f\"\\nLongitud del camino hasta '{raza}': {camino}\")"
   ]
  },
  {
   "cell_type": "markdown",
   "id": "b7376e67",
   "metadata": {},
   "source": [
    "# Calcular la Altura Máxima del Árbol\n",
    "Esta función retorna la profundidad máxima del árbol de decisiones."
   ]
  },
  {
   "cell_type": "code",
   "execution_count": 16,
   "id": "7e58e335",
   "metadata": {},
   "outputs": [
    {
     "name": "stdout",
     "output_type": "stream",
     "text": [
      "Altura máxima del árbol: 3\n"
     ]
    }
   ],
   "source": [
    "def altura_max(nodo):\n",
    "    if type(nodo) == str:\n",
    "        return 1\n",
    "    _, opciones = nodo\n",
    "    alt = 0\n",
    "    for opcion, hoja in opciones:\n",
    "        sub_alt = altura_max(hoja)\n",
    "        if sub_alt > alt:\n",
    "            alt = sub_alt\n",
    "    return alt + 1\n",
    "\n",
    "alt = altura_max(arbol_razas)\n",
    "print(f\"Altura máxima del árbol: {alt}\")"
   ]
  },
  {
   "cell_type": "markdown",
   "id": "54002de7",
   "metadata": {},
   "source": [
    "# Función para Imprimir el Árbol de Decisiones\n",
    "Esta función imprime el árbol de decisiones de forma estructurada y legible."
   ]
  },
  {
   "cell_type": "code",
   "execution_count": 17,
   "id": "514d7763",
   "metadata": {},
   "outputs": [
    {
     "name": "stdout",
     "output_type": "stream",
     "text": [
      "\n",
      "Árbol de decisiones completo:\n",
      "¿Sos alto?\n",
      "  [Si]\n",
      "    ¿Te apasionan los fuegos artificiales?\n",
      "      [Si]\n",
      "        - Magos\n",
      "      [No]\n",
      "        - Elfos\n",
      "  [No]\n",
      "    ¿Te gusta el oro?\n",
      "      [Si]\n",
      "        - Enanos\n",
      "      [No]\n",
      "        - Hobbits\n"
     ]
    }
   ],
   "source": [
    "def imprimir_arbol(nodo, nivel=0):\n",
    "    if type(nodo) == str:\n",
    "        print('  ' * nivel + '- ' + nodo)\n",
    "    else:\n",
    "        pregunta, opciones = nodo\n",
    "        print('  ' * nivel + pregunta)\n",
    "        for opcion, subnodo in opciones:\n",
    "            print('  ' * (nivel + 1) + f'[{opcion}]')\n",
    "            imprimir_arbol(subnodo, nivel + 2)\n",
    "\n",
    "print(\"\\nÁrbol de decisiones completo:\")\n",
    "imprimir_arbol(arbol_razas)"
   ]
  },
  {
   "cell_type": "markdown",
   "id": "2b5114e9",
   "metadata": {},
   "source": [
    "# Función para Mostrar Arte ASCII según la Raza\n",
    "Esta función retorna un arte ASCII representativo según la raza determinada."
   ]
  },
  {
   "cell_type": "code",
   "execution_count": 18,
   "id": "a7ad7425",
   "metadata": {},
   "outputs": [
    {
     "name": "stdout",
     "output_type": "stream",
     "text": [
      "\n",
      "⠀⠀⠀   ⠀⠀⠀⣰⣾⣷⣦⡀⠀⠀⠀⠀⠀⠀⠀⠀⠀⠀⠀⠀⠀⠀⠀⠀⠀\n",
      "⠀⠀⠀⠀⣀⠀⠀⠀⢿⣿⣿⣿⣧⡀⠀⠀⠀⠀⠀⠀⠀⠀⠀⠀⠀⠀⠀⠀⠀⠀\n",
      " ⠀⠀⠀⣿⡆⠀⠀⠈⣿⣿⣿⣿⣿⣦⣀⠀⠀⠀⠀⠀⠀⠀⠀⠀⠀⠀⠀⠀⠀\n",
      "⠀⠀  ⠹⣿⡀⠀⢀⣿⣿⣿⣿⣿⣿⣿⣦⠀⠀⠀⠀⠀⠀⠀⠀⠀⠀⠀⠀⠀\n",
      "     ⠸⣿⣿⣾⣿⣿⣿⣿⣿⣿⣿⣿⣿⣦⠀⠀⠀⠀⠀⠀⠀⠀⠀⠀⠀⠀\n",
      "⠀⠀    ⠈⢿⡟⠛⢻⣿⣿⣿⣿⣿⣿⣿⠏⠀⠀⠀⠀⠀⠀⠀⠀⠀⠀⠀⠀\n",
      "⠀⠀⠀   ⠀⢸⣇⠀⠈⣿⣿⣿⣿⣿⣿⠋⠀⠀⠀⠀⠀⠀⠀⠀⠀⠀⠀⠀⠀\n",
      "⠀⠀      ⠀⣿⡀⠀⣿⣿⣿⣿⣿⣿⣦⠀⠀⠀⠀⠀⠀⠀⠀⠀⠀⠀⠀⠀\n",
      "⠀⠀       ⠸⣧⠀⢻⣿⣿⣿⣿⣿⡙⠧⠀⠀⠀⠀⠀⠀⠀⠀⠀⠀⠀⠀\n",
      "⠀        ⠀⢻⡆⢸⣿⣿⣿⠿⠿⢿⣿⣆⠀⠀⠀⠀⠀⠀⠀⠀⠀⠀⠀\n",
      "⠀          ⢿⡀⠹⣿⡇⠀⠀⠈⣿⣿⡀⠀⠀⠀⠀⠀⠀⠀⠀⠀⠀\n",
      "⠀⠀⣿⣿⣟⣋⣤⣀⣼⣷⣤⣿⣿⣤⣤⣄⣼⣿⣧⣤⣤⣤⡀⠀⠀⠀⠀⠀⠀\n",
      "⣿⣿⣿⣿⣿⣿⣿⣿⣿⣿⣿⣿⣿⣿⣿⣿⣿⣿⣿⣿⣿⣿⣿⣷⣦⡄⠀⠀⠀\n",
      "        \n"
     ]
    }
   ],
   "source": [
    "def arteAscii(raza):\n",
    "    if raza == \"Magos\":\n",
    "        return(\"\"\"\n",
    "⠀⠀⠀⠀⠀⠀⠀⠀⠀⠀⠀⠀⣀⣠⣤⣤⣤⡴⠟⠀⠀⠀⠀⠀⠀⠀⠀⠀⠀⠀⠀⠀⠀⠀⠀⠀⠀⠀⠀⠀⠀⠀⠀⠀⠀⠀⠀⠀⠀⠀\n",
    "⢠⣄⠀⠀⠀⠀⠀⠀⠀⠀⣠⣾⣿⣿⡿⠋⠁⠀⠀⠀⠀⠀⠀⠀⠀⠀⠀⠀⠀⠀⠀⠀⠀⠀⠀⠀⠀⠀⠀⠀⠀⠀⠀⠀⠀⠀⠀⠀⠀⠀\n",
    "⢈⣿⣇⠀⠀⠀⠀⠀⣠⣾⣿⣿⣿⡇⠀⠀⠀⠀⠀⠀⠀⠀⠀⠀⠀⠀⠀⠀⠀⠀⠀⠀⠀⠀⠀⠀⠀⠀⠀⠀⠀⠀⠀⠀⠀⠀⠀⠀⠀⠀\n",
    "⠘⣿⡏⠀⠀⣤⣶⣿⣿⣿⣿⣿⣿⣿⣄⠀⠀⠀⠀⠀⠀⠀⠀⠀⠀⠀⠀⠀⠀⠀⠀⠀⠀⠀⠀⠀⠀⠀⠀⠀⠀⠀⠀⠀⠀⠀⠀⠀⠀⠀\n",
    "⠀⢻⡇⠀⠀⠉⠉⠙⣿⣿⣿⣿⣿⣿⣿⣿⠀⠀⠀⠀⠀⠀⠀⠀⠀⠀⠀⠀⠀⠀⠀⠀⠀⠀⠀⠀⠀⠀⠀⠀⠀⠀⠀⠀⠀⠀⠀⠀⠀⠀\n",
    "⠀⢸⣇⠀⠀⠀⠀⢠⣿⣿⣿⣿⣿⣿⣿⣿⣇⠀⠀⠀⠀⠀⠀⠀⠀⠀⠀⠀⠀⠀⠀⠀⠀⠀⠀⠀⠀⠀⠀⠀⠀⠀⠀⠀⠀⠀⠀⠀⠀⠀\n",
    "⠀⢸⣿⠀⠀⠀⠀⣾⣿⣿⣿⣿⣿⣿⣿⣿⣿⣦⠀⠀⠀⠀⠀⠀⠀⠀⠀⠀⠀⠀⠀⠀⠀⠀⠀⠀⠀⠀⠀⠀⠀⠀⠀⠀⠀⠀⠀⠀⠀⠀\n",
    "⠀⣼⣿⣦⣤⣶⣾⣿⣿⣿⣿⣿⣿⣿⣿⣿⣿⣿⣷⡀⠀⠀⠀⠀⠀⠀⠀⠀⠀⠀⠀⠀⠀⠀⠀⠀⠀⠀⠀⠀⠀⠀⠀⠀⠀⠀⠀⠀⠀⠀\n",
    "⠀⠸⣿⣿⣿⣿⣿⣿⣿⣿⣿⣿⣿⣿⣿⣿⣿⣿⣿⣷⠀⠀⠀⠀⠀⠀⠀⠀⠀⠀⠀⠀⠀⠀⠀⠀⠀⠀⠀⠀⠀⠀\n",
    "⠀⠀⢻⣿⣿⣿⣿⣿⣿⣿⣿⣿⣿⣿⣿⣿⣿⣿⣿⡏⠀⠀⠀⠀⠀⠀⠀⠀⠀⠀⠀⠀⠀⠀⠀⠀\n",
    "⠀⠀⢸⣿⢿⣿⣿⣿⣿⣿⣿⣿⣿⣿⣿⣿⣿⣿⣿⡄⠀⠀⠀⠀⠀⠀⠀⠀⠀⠀⠀⠀⠀⠀⠀⠀⠀\n",
    "⠀⠀⢸⣿⠸⠿⠛⠹⣿⣿⣿⣿⣿⣿⣿⣿⣿⣿⣿⣷⡀⠀⠀⠀⠀⠀⠀⠀⠀⠀⠀⠀⠀⠀⠀⠀\n",
    "⠀⠀⠘⣿⠀⠀⠀⠀⣿⣿⣿⣿⣿⣿⣿⣿⣿⣿⣿⣿⣷⡀⠀⠀⠀⠀⠀⠀⠀⠀⠀⠀⠀⠀\n",
    "⠀⠀⠀⣿⡄⠀⠀⠀⢸⣿⣿⣿⣿⣿⣿⣿⣿⣿⣿⣿⣿⣧⠀⠀⠀⠀⠀⠀⠀⠀⠀\n",
    "⠀⠀⠀⢻⡇⠀⠀⠀⢸⣿⣿⣿⣿⣿⣿⣿⣿⣿⣿⣿⣿⣿⠀⠀⠀⠀⠀⠀⠀⠀⠀⠀⠀⠀⠀⠀\n",
    "⠀⠀⠀⢸⡇⠀⠀⠀⣼⣿⣿⣿⣿⣿⣿⣿⣿⣿⣿⣿⣿⣿⣧⡀⠀⠀⠀\n",
    "⠀⠀⠀⠀⣿⠀⠀⢸⣿⣿⣿⣿⣿⣿⣿⣿⣿⣿⣿⣿⣿⣿⣿⣿⣿⣦⠀⠀⠀⠀⠀⠀⠀⠀⠀\n",
    "⠀⠀⠀⠀⣿⠀⠀⢼⣿⣿⣿⣿⣿⣿⣿⣿⣿⣿⣿⣿⣿⣿⣿⣿⣿⣿⣷⡀⠀\n",
    "⠀⠀⠀⣤⣿⣿⣷⣿⣿⣿⣿⣿⣿⣿⣿⣿⣿⣿⣿⣿⣿⣿⣿⣿⣿⣟⣋⣤⣀⠀⠀⠀\n",
    "        \"\"\")\n",
    "    elif raza == \"Elfos\":\n",
    "        return(\"\"\"\n",
    "                              ___\n",
    "                            ,' _ `.\n",
    "                            \\\\,' )  )\n",
    "                              ,'  /\n",
    "                            ,;  ,'`-.\n",
    "                          //  /     `-.\n",
    "                         //  /         `-.\n",
    "                        //  /             `.               ______\n",
    "                       //  /                `.           ,'.  . .`.\n",
    "                      //  /                   `.        /,`.`-.`.`.`.\n",
    "                     //  /                      `.      ).,-  '.\\\\')\\\\:\n",
    "                    ::  :                         `.   (a /a)  :';)`)|\n",
    "                    ;;  ;                           `.  )'     |'|\\/|\n",
    "                   ::  :                               /_,     |'|\\ ||\n",
    "                   ;;  ;                                )__    |'|/`.|\n",
    "                  ::  :                                  \\\\_    :'|,'||\n",
    "                  ||  |                                    `-.' :|  \\\\|\n",
    "  _.._-_-,______  ||  |______________________________,',',-,(\\\\ /||_,'`.\n",
    "  `-...__.----,.  ||__|_----------------'''''''''''''`..-.(,'))\\\\||,'\n",
    "              >-''  _ `._  ____ ____________________..`'`-`/_-||  `.\n",
    "             /.`--'' `   `' `.. `.`.     `.    `.    `.      `||.\n",
    "             (_`_...-'   `    : . \\\\ \\\\   .  \\\\     )     `.     |'  \\\n",
    "              \\\\_`__..'.   ____;  . : :   )         |\\\\    \\\\   /  :  \\\n",
    "                :--...-'''`._/_.___; ;        )    ; )   /      |   |\n",
    "                |  ||         \\\\   / /      _,'    /    __....---|\n",
    "                :  ::          `-'-'-...--'...--''`-';'/        |\n",
    "                 :  ::                             ,'  :        :\n",
    "                 :  ::                           ,'    |\\\\       |\\\\\n",
    "                  :  ::                        ,'      | \\\\    | ; `.\n",
    "                  :  ::                      ,'        :  \\\\   ; \\\\   `\n",
    "                   \\\\  \\\\                   ,'          (   `-'  (\n",
    "                    \\\\  \\\\                ,'            /       /|`\n",
    "                     \\\\  \\\\            ,-'              : `.__,' |  )\n",
    "                      \\\\  \\\\        ,-'                 |        (\n",
    "                       \\\\  \\\\    ,-'                    ;        |\\\\\n",
    "                        \\\\  \\\\,-'                       \\\\        ( \\\\ \n",
    "                         `. `:.                        ;\\\\   _,  /  \\\n",
    "                           `. \\\\                       | \\\\      \\\\   \\\n",
    "                         /`._) ))                      |  `     : ,  `\n",
    "                         `.___,'                       |   _,'  |  SSt\n",
    "        \"\"\")\n",
    "    elif raza == \"Enanos\":\n",
    "        return(\"\"\"\n",
    "                              ___A___\n",
    "                             /   |   \\\n",
    "                            / __ | __ \\\n",
    "                            |/ o\\_/o \\|\n",
    "                            (.--(_)--.)\n",
    "                        .===/.-'\\_/`-.\\===.\n",
    "                      .'\\  /           \\ / `.\n",
    "                    /___ |_\\           /_|___\\_\n",
    "                   <____>'\\ `.       ,' /`<____>\n",
    "                   /   /   >==`-._.-'==<  /   /\n",
    "                 _/==='   /  ,---:---.  \\/==,'\n",
    "                / _ /     |__/v^v^v^v^v\\__)  \\\n",
    "                \\)|)      |V^V^V^V^V^V^V|\\__/\n",
    "                 ||        \\`-----|-----'/\n",
    "                 ||         \\--.__|__,--/\n",
    "                 ||          |____|____|\n",
    "                 ||         <_____X_____>\n",
    "              /A || A\\       \\....|..../\n",
    "             // \\||/ \\\\       \\   |   /\n",
    "            ((   []   ))      / v | v \\\n",
    "             \\\\ /  \\ //      /   ,^    \\\n",
    "              \\V    V/       `--'   `--'  \n",
    "        \"\"\")\n",
    "    elif raza == \"Hobbits\":\n",
    "        return(\"\"\"\n",
    "⠀⠀⠀   ⠀⠀⠀⣰⣾⣷⣦⡀⠀⠀⠀⠀⠀⠀⠀⠀⠀⠀⠀⠀⠀⠀⠀⠀⠀\n",
    "⠀⠀⠀⠀⣀⠀⠀⠀⢿⣿⣿⣿⣧⡀⠀⠀⠀⠀⠀⠀⠀⠀⠀⠀⠀⠀⠀⠀⠀⠀\n",
    " ⠀⠀⠀⣿⡆⠀⠀⠈⣿⣿⣿⣿⣿⣦⣀⠀⠀⠀⠀⠀⠀⠀⠀⠀⠀⠀⠀⠀⠀\n",
    "⠀⠀  ⠹⣿⡀⠀⢀⣿⣿⣿⣿⣿⣿⣿⣦⠀⠀⠀⠀⠀⠀⠀⠀⠀⠀⠀⠀⠀\n",
    "     ⠸⣿⣿⣾⣿⣿⣿⣿⣿⣿⣿⣿⣿⣦⠀⠀⠀⠀⠀⠀⠀⠀⠀⠀⠀⠀\n",
    "⠀⠀    ⠈⢿⡟⠛⢻⣿⣿⣿⣿⣿⣿⣿⠏⠀⠀⠀⠀⠀⠀⠀⠀⠀⠀⠀⠀\n",
    "⠀⠀⠀   ⠀⢸⣇⠀⠈⣿⣿⣿⣿⣿⣿⠋⠀⠀⠀⠀⠀⠀⠀⠀⠀⠀⠀⠀⠀\n",
    "⠀⠀      ⠀⣿⡀⠀⣿⣿⣿⣿⣿⣿⣦⠀⠀⠀⠀⠀⠀⠀⠀⠀⠀⠀⠀⠀\n",
    "⠀⠀       ⠸⣧⠀⢻⣿⣿⣿⣿⣿⡙⠧⠀⠀⠀⠀⠀⠀⠀⠀⠀⠀⠀⠀\n",
    "⠀        ⠀⢻⡆⢸⣿⣿⣿⠿⠿⢿⣿⣆⠀⠀⠀⠀⠀⠀⠀⠀⠀⠀⠀\n",
    "⠀          ⢿⡀⠹⣿⡇⠀⠀⠈⣿⣿⡀⠀⠀⠀⠀⠀⠀⠀⠀⠀⠀\n",
    "⠀⠀⣿⣿⣟⣋⣤⣀⣼⣷⣤⣿⣿⣤⣤⣄⣼⣿⣧⣤⣤⣤⡀⠀⠀⠀⠀⠀⠀\n",
    "⣿⣿⣿⣿⣿⣿⣿⣿⣿⣿⣿⣿⣿⣿⣿⣿⣿⣿⣿⣿⣿⣿⣿⣷⣦⡄⠀⠀⠀\n",
    "        \"\"\"\n",
    "        )\n",
    "    \n",
    "print(arteAscii(raza))"
   ]
  }
 ],
 "metadata": {
  "kernelspec": {
   "display_name": "Python 3",
   "language": "python",
   "name": "python3"
  },
  "language_info": {
   "codemirror_mode": {
    "name": "ipython",
    "version": 3
   },
   "file_extension": ".py",
   "mimetype": "text/x-python",
   "name": "python",
   "nbconvert_exporter": "python",
   "pygments_lexer": "ipython3",
   "version": "3.11.9"
  }
 },
 "nbformat": 4,
 "nbformat_minor": 5
}
